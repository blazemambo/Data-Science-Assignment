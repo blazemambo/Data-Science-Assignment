{
 "cells": [
  {
   "cell_type": "code",
   "execution_count": 23,
   "id": "150efe82-8977-40a5-8058-98f62615ebeb",
   "metadata": {},
   "outputs": [
    {
     "name": "stdout",
     "output_type": "stream",
     "text": [
      "  Family ID       Member ID Transaction Date    Category  Amount  Income  \\\n",
      "0    FAM001  FAM001_Member1        10/7/2024      Travel  409.12  113810   \n",
      "1    FAM001  FAM001_Member1       10/16/2024      Travel  270.91  113810   \n",
      "2    FAM001  FAM001_Member1       10/17/2024   Groceries   91.10  113810   \n",
      "3    FAM001  FAM001_Member1       10/25/2024  Healthcare  198.23  113810   \n",
      "4    FAM001  FAM001_Member1       10/25/2024   Education  206.42  113810   \n",
      "\n",
      "   Savings  Monthly Expenses  Loan Payments  Credit Card Spending  Dependents  \\\n",
      "0    20234              5781           2422                  2959           2   \n",
      "1    20234              5781           2422                  2959           2   \n",
      "2    20234              5781           2422                  2959           2   \n",
      "3    20234              5781           2422                  2959           2   \n",
      "4    20234              5781           2422                  2959           2   \n",
      "\n",
      "   Financial Goals Met (%)  \n",
      "0                       68  \n",
      "1                       68  \n",
      "2                       68  \n",
      "3                       68  \n",
      "4                       68  \n"
     ]
    }
   ],
   "source": [
    "import pandas as pd\n",
    "\n",
    "# Load your dataset (adjust the file path)\n",
    "df = pd.read_csv('family_financial_and_transactions_data.csv')\n",
    "\n",
    "# Inspect the first few rows\n",
    "print(df.head())\n"
   ]
  },
  {
   "cell_type": "code",
   "execution_count": 24,
   "id": "813e7dfb-676f-43c3-bbc5-feef4593041c",
   "metadata": {},
   "outputs": [
    {
     "name": "stdout",
     "output_type": "stream",
     "text": [
      "Index(['Family ID', 'Member ID', 'Transaction Date', 'Category', 'Amount',\n",
      "       'Income', 'Savings', 'Monthly Expenses', 'Loan Payments',\n",
      "       'Credit Card Spending', 'Dependents', 'Financial Goals Met (%)'],\n",
      "      dtype='object')\n"
     ]
    }
   ],
   "source": [
    "print(df.columns)\n"
   ]
  },
  {
   "cell_type": "code",
   "execution_count": 25,
   "id": "506f8fc2-fe78-4393-8412-a63fb7c4cc9a",
   "metadata": {},
   "outputs": [
    {
     "name": "stdout",
     "output_type": "stream",
     "text": [
      "  Family ID       Member ID Transaction Date    Category  Amount  Income  \\\n",
      "0    FAM001  FAM001_Member1        10/7/2024      Travel  409.12  113810   \n",
      "1    FAM001  FAM001_Member1       10/16/2024      Travel  270.91  113810   \n",
      "2    FAM001  FAM001_Member1       10/17/2024   Groceries   91.10  113810   \n",
      "3    FAM001  FAM001_Member1       10/25/2024  Healthcare  198.23  113810   \n",
      "4    FAM001  FAM001_Member1       10/25/2024   Education  206.42  113810   \n",
      "\n",
      "   Savings  Monthly Expenses  Loan Payments  Credit Card Spending  Dependents  \\\n",
      "0    20234              5781           2422                  2959           2   \n",
      "1    20234              5781           2422                  2959           2   \n",
      "2    20234              5781           2422                  2959           2   \n",
      "3    20234              5781           2422                  2959           2   \n",
      "4    20234              5781           2422                  2959           2   \n",
      "\n",
      "   Financial Goals Met (%)  \n",
      "0                       68  \n",
      "1                       68  \n",
      "2                       68  \n",
      "3                       68  \n",
      "4                       68  \n"
     ]
    }
   ],
   "source": [
    "print(df.head())\n"
   ]
  },
  {
   "cell_type": "code",
   "execution_count": 31,
   "id": "33b6fe82-6660-43a9-b9a1-336bd8941c25",
   "metadata": {},
   "outputs": [
    {
     "name": "stdout",
     "output_type": "stream",
     "text": [
      "Index(['Family ID', 'Member ID', 'Transaction Date', 'Category', 'Amount',\n",
      "       'Income', 'Savings', 'Monthly Expenses', 'Loan Payments',\n",
      "       'Credit Card Spending', 'Dependents', 'Financial Goals Met (%)'],\n",
      "      dtype='object')\n"
     ]
    }
   ],
   "source": [
    "print(df.columns)\n"
   ]
  },
  {
   "cell_type": "code",
   "execution_count": 32,
   "id": "be0d44d7-d39c-4c82-822a-0bc71ee9f3db",
   "metadata": {},
   "outputs": [
    {
     "name": "stdout",
     "output_type": "stream",
     "text": [
      "  Family ID       Member ID Transaction Date    Category  Amount  Income  \\\n",
      "0    FAM001  FAM001_Member1        10/7/2024      Travel  409.12  113810   \n",
      "1    FAM001  FAM001_Member1       10/16/2024      Travel  270.91  113810   \n",
      "2    FAM001  FAM001_Member1       10/17/2024   Groceries   91.10  113810   \n",
      "3    FAM001  FAM001_Member1       10/25/2024  Healthcare  198.23  113810   \n",
      "4    FAM001  FAM001_Member1       10/25/2024   Education  206.42  113810   \n",
      "\n",
      "   Savings  Monthly Expenses  Loan Payments  Credit Card Spending  Dependents  \\\n",
      "0    20234              5781           2422                  2959           2   \n",
      "1    20234              5781           2422                  2959           2   \n",
      "2    20234              5781           2422                  2959           2   \n",
      "3    20234              5781           2422                  2959           2   \n",
      "4    20234              5781           2422                  2959           2   \n",
      "\n",
      "   Financial Goals Met (%)  \n",
      "0                       68  \n",
      "1                       68  \n",
      "2                       68  \n",
      "3                       68  \n",
      "4                       68  \n"
     ]
    }
   ],
   "source": [
    "print(df.head())\n"
   ]
  },
  {
   "cell_type": "code",
   "execution_count": 33,
   "id": "57ee4dc4-edba-442c-a8ce-b3fec13ff70d",
   "metadata": {},
   "outputs": [
    {
     "name": "stdout",
     "output_type": "stream",
     "text": [
      "Index(['family id', 'member id', 'transaction date', 'category', 'amount',\n",
      "       'income', 'savings', 'monthly expenses', 'loan payments',\n",
      "       'credit card spending', 'dependents', 'financial goals met (%)'],\n",
      "      dtype='object')\n"
     ]
    }
   ],
   "source": [
    "# Remove leading/trailing spaces and convert to lowercase\n",
    "df.columns = df.columns.str.strip().str.lower()  # Convert all column names to lowercase\n",
    "print(df.columns)  # Print the column names after cleaning\n"
   ]
  },
  {
   "cell_type": "code",
   "execution_count": 34,
   "id": "bacab67c-630e-41f3-a612-01b484b29338",
   "metadata": {},
   "outputs": [
    {
     "name": "stdout",
     "output_type": "stream",
     "text": [
      "Index([], dtype='object')\n",
      "family id                  0\n",
      "member id                  0\n",
      "transaction date           0\n",
      "category                   0\n",
      "amount                     0\n",
      "income                     0\n",
      "savings                    0\n",
      "monthly expenses           0\n",
      "loan payments              0\n",
      "credit card spending       0\n",
      "dependents                 0\n",
      "financial goals met (%)    0\n",
      "dtype: int64\n"
     ]
    }
   ],
   "source": [
    "# Check for duplicate columns\n",
    "print(df.columns[df.columns.duplicated()])\n",
    "\n",
    "# Check for rows with missing values\n",
    "print(df.isnull().sum())  # Check if there are missing values in any columns\n"
   ]
  },
  {
   "cell_type": "code",
   "execution_count": 35,
   "id": "216e6a6e-44bd-43ea-9338-3b2657c13155",
   "metadata": {},
   "outputs": [
    {
     "name": "stdout",
     "output_type": "stream",
     "text": [
      "      family id       member id transaction date       category  amount  \\\n",
      "0        FAM001  FAM001_Member1        10/7/2024         Travel  409.12   \n",
      "1        FAM001  FAM001_Member1       10/16/2024         Travel  270.91   \n",
      "2        FAM001  FAM001_Member1       10/17/2024      Groceries   91.10   \n",
      "3        FAM001  FAM001_Member1       10/25/2024     Healthcare  198.23   \n",
      "4        FAM001  FAM001_Member1       10/25/2024      Education  206.42   \n",
      "...         ...             ...              ...            ...     ...   \n",
      "16301    FAM200  FAM200_Member6       10/10/2024      Groceries   79.99   \n",
      "16302    FAM200  FAM200_Member6       10/22/2024      Education  228.39   \n",
      "16303    FAM200  FAM200_Member6       10/29/2024         Travel  258.63   \n",
      "16304    FAM200  FAM200_Member6       10/26/2024         Travel  467.46   \n",
      "16305    FAM200  FAM200_Member6       10/27/2024  Entertainment  475.34   \n",
      "\n",
      "       income  savings  monthly expenses  loan payments  credit card spending  \\\n",
      "0      113810    20234              5781           2422                  2959   \n",
      "1      113810    20234              5781           2422                  2959   \n",
      "2      113810    20234              5781           2422                  2959   \n",
      "3      113810    20234              5781           2422                  2959   \n",
      "4      113810    20234              5781           2422                  2959   \n",
      "...       ...      ...               ...            ...                   ...   \n",
      "16301   44621    44081              4296           2470                  2831   \n",
      "16302   44621    44081              4296           2470                  2831   \n",
      "16303   44621    44081              4296           2470                  2831   \n",
      "16304   44621    44081              4296           2470                  2831   \n",
      "16305   44621    44081              4296           2470                  2831   \n",
      "\n",
      "       dependents  financial goals met (%)  \n",
      "0               2                       68  \n",
      "1               2                       68  \n",
      "2               2                       68  \n",
      "3               2                       68  \n",
      "4               2                       68  \n",
      "...           ...                      ...  \n",
      "16301           4                       92  \n",
      "16302           4                       92  \n",
      "16303           4                       92  \n",
      "16304           4                       92  \n",
      "16305           4                       92  \n",
      "\n",
      "[16306 rows x 12 columns]\n"
     ]
    }
   ],
   "source": [
    "print(df)\n"
   ]
  },
  {
   "cell_type": "code",
   "execution_count": 38,
   "id": "3cb855be-5b28-4f2a-ad9b-5e8a5a7134be",
   "metadata": {},
   "outputs": [
    {
     "name": "stdout",
     "output_type": "stream",
     "text": [
      "             income  monthly expenses  savings credit card spending\n",
      "family id                                                          \n",
      "FAM001     10584330            537633  1881762           {2959: 93}\n",
      "FAM002      3924096            495440  2595296            {995: 88}\n",
      "FAM003      1564066            248254   534155           {2818: 47}\n",
      "FAM004     12083620            341145  2919825            {668: 95}\n",
      "FAM005     10897920            517440   199980          {1922: 165}\n"
     ]
    }
   ],
   "source": [
    "# Assuming you've cleaned the column names\n",
    "family_data = df.groupby('family id').agg({\n",
    "    'income': 'sum',\n",
    "    'monthly expenses': 'sum',\n",
    "    'savings': lambda x: x.sum(),  # Calculate savings if not already available\n",
    "    'credit card spending': lambda x: x.value_counts().to_dict()  # Breakdown by spending categories\n",
    "})\n",
    "\n",
    "# Display the family data\n",
    "print(family_data.head())\n"
   ]
  },
  {
   "cell_type": "code",
   "execution_count": 40,
   "id": "e7116bd3-981e-4234-b933-d8e23f96f011",
   "metadata": {},
   "outputs": [],
   "source": [
    "member_data = df.groupby('member id').agg({\n",
    "    'income': 'sum',\n",
    "    'monthly expenses': 'sum',\n",
    "    'credit card spending': 'value_counts'\n",
    "})\n"
   ]
  },
  {
   "cell_type": "code",
   "execution_count": 48,
   "id": "e0c2f7c4-dc40-421f-907b-bd0dd9d03c7c",
   "metadata": {},
   "outputs": [
    {
     "name": "stdout",
     "output_type": "stream",
     "text": [
      "Requirement already satisfied: seaborn in c:\\users\\hp\\appdata\\local\\programs\\python\\python312\\lib\\site-packages (0.13.2)Note: you may need to restart the kernel to use updated packages.\n",
      "\n",
      "Requirement already satisfied: numpy!=1.24.0,>=1.20 in c:\\users\\hp\\appdata\\local\\programs\\python\\python312\\lib\\site-packages (from seaborn) (2.1.3)\n",
      "Requirement already satisfied: pandas>=1.2 in c:\\users\\hp\\appdata\\local\\programs\\python\\python312\\lib\\site-packages (from seaborn) (2.2.3)\n",
      "Requirement already satisfied: matplotlib!=3.6.1,>=3.4 in c:\\users\\hp\\appdata\\local\\programs\\python\\python312\\lib\\site-packages (from seaborn) (3.9.2)\n",
      "Requirement already satisfied: contourpy>=1.0.1 in c:\\users\\hp\\appdata\\local\\programs\\python\\python312\\lib\\site-packages (from matplotlib!=3.6.1,>=3.4->seaborn) (1.3.1)\n",
      "Requirement already satisfied: cycler>=0.10 in c:\\users\\hp\\appdata\\local\\programs\\python\\python312\\lib\\site-packages (from matplotlib!=3.6.1,>=3.4->seaborn) (0.12.1)\n",
      "Requirement already satisfied: fonttools>=4.22.0 in c:\\users\\hp\\appdata\\local\\programs\\python\\python312\\lib\\site-packages (from matplotlib!=3.6.1,>=3.4->seaborn) (4.55.0)\n",
      "Requirement already satisfied: kiwisolver>=1.3.1 in c:\\users\\hp\\appdata\\local\\programs\\python\\python312\\lib\\site-packages (from matplotlib!=3.6.1,>=3.4->seaborn) (1.4.7)\n",
      "Requirement already satisfied: packaging>=20.0 in c:\\users\\hp\\appdata\\local\\programs\\python\\python312\\lib\\site-packages (from matplotlib!=3.6.1,>=3.4->seaborn) (24.2)\n",
      "Requirement already satisfied: pillow>=8 in c:\\users\\hp\\appdata\\local\\programs\\python\\python312\\lib\\site-packages (from matplotlib!=3.6.1,>=3.4->seaborn) (11.0.0)\n",
      "Requirement already satisfied: pyparsing>=2.3.1 in c:\\users\\hp\\appdata\\local\\programs\\python\\python312\\lib\\site-packages (from matplotlib!=3.6.1,>=3.4->seaborn) (3.2.0)\n",
      "Requirement already satisfied: python-dateutil>=2.7 in c:\\users\\hp\\appdata\\local\\programs\\python\\python312\\lib\\site-packages (from matplotlib!=3.6.1,>=3.4->seaborn) (2.9.0.post0)\n",
      "Requirement already satisfied: pytz>=2020.1 in c:\\users\\hp\\appdata\\local\\programs\\python\\python312\\lib\\site-packages (from pandas>=1.2->seaborn) (2024.2)\n",
      "Requirement already satisfied: tzdata>=2022.7 in c:\\users\\hp\\appdata\\local\\programs\\python\\python312\\lib\\site-packages (from pandas>=1.2->seaborn) (2024.2)\n",
      "Requirement already satisfied: six>=1.5 in c:\\users\\hp\\appdata\\local\\programs\\python\\python312\\lib\\site-packages (from python-dateutil>=2.7->matplotlib!=3.6.1,>=3.4->seaborn) (1.16.0)\n"
     ]
    },
    {
     "name": "stderr",
     "output_type": "stream",
     "text": [
      "\n",
      "[notice] A new release of pip is available: 24.2 -> 24.3.1\n",
      "[notice] To update, run: python.exe -m pip install --upgrade pip\n"
     ]
    }
   ],
   "source": [
    "pip install seaborn"
   ]
  },
  {
   "cell_type": "code",
   "execution_count": 49,
   "id": "c737b3a3-05c6-4d76-ad47-5fb3137610f9",
   "metadata": {},
   "outputs": [],
   "source": [
    "import seaborn as sns\n"
   ]
  },
  {
   "cell_type": "code",
   "execution_count": 50,
   "id": "30fbd2b2-9e59-48b2-8206-6444506f2896",
   "metadata": {},
   "outputs": [],
   "source": [
    "import matplotlib.pyplot as plt\n"
   ]
  },
  {
   "cell_type": "code",
   "execution_count": 51,
   "id": "7bf8af98-5f4e-4583-adc5-238643c8295f",
   "metadata": {},
   "outputs": [
    {
     "data": {
      "image/png": "[encoded data removed]",
      "text/plain": [
       "<Figure size 800x600 with 2 Axes>"
      ]
     },
     "metadata": {},
     "output_type": "display_data"
    }
   ],
   "source": [
    "# Import necessary libraries\n",
    "import pandas as pd\n",
    "import seaborn as sns\n",
    "import matplotlib.pyplot as plt\n",
    "\n",
    "# Assuming your DataFrame is already loaded and cleaned\n",
    "\n",
    "# Make sure column names are correctly formatted\n",
    "df.columns = df.columns.str.strip().str.lower()  # Standardize column names (lowercase and remove spaces)\n",
    "\n",
    "# Ensure no missing values in the specified columns\n",
    "df = df.dropna(subset=['income', 'monthly expenses', 'savings'])\n",
    "\n",
    "# Compute the correlation matrix\n",
    "correlation_matrix = df[['income', 'monthly expenses', 'savings']].corr()\n",
    "\n",
    "# Generate the heatmap\n",
    "plt.figure(figsize=(8, 6))  # Set the size of the plot\n",
    "sns.heatmap(correlation_matrix, annot=True, cmap='coolwarm', fmt='.2f', linewidths=0.5)\n",
    "plt.title(\"Correlation Matrix between Income, Monthly Expenses, and Savings\")\n",
    "plt.show()\n"
   ]
  },
  {
   "cell_type": "code",
   "execution_count": 53,
   "id": "6722e842-74a1-4f4c-ab65-2de6866e3d36",
   "metadata": {},
   "outputs": [],
   "source": [
    "def calculate_financial_score(row):\n",
    "    score = 0\n",
    "    score += (row['savings_income_ratio'] * 30)\n",
    "    score += ((100 - row['monthly expenses_income_percentage']) * 20)\n",
    "    score += ((100 - row['loan_payments_percentage']) * 15)\n",
    "    score += (100 - row['credit_card_spending_trend']) * 15\n",
    "    score += (100 - row['luxury_spending_percentage']) * 10\n",
    "    score += row['financial_goals_met_percentage'] * 10\n",
    "    return score\n"
   ]
  },
  {
   "cell_type": "code",
   "execution_count": 60,
   "id": "676c59b2-0607-4ebc-b994-a3623a1634f1",
   "metadata": {},
   "outputs": [
    {
     "data": {
      "image/png": "[encoded data removed]",
      "text/plain": [
       "<Figure size 640x480 with 1 Axes>"
      ]
     },
     "metadata": {},
     "output_type": "display_data"
    }
   ],
   "source": [
    "import matplotlib.pyplot as plt\n",
    "import seaborn as sns\n",
    "\n",
    "# Example: Family financial scores bar plot\n",
    "sns.barplot(x='family id', y='monthly expenses', data=family_data)\n",
    "plt.title('Family Financial Scores')\n",
    "plt.xlabel('Family ID')\n",
    "plt.ylabel('monthly expenses')\n",
    "plt.show()\n"
   ]
  },
  {
   "cell_type": "code",
   "execution_count": 62,
   "id": "56f175c6-e7c3-4187-a466-08719b062d93",
   "metadata": {},
   "outputs": [
    {
     "name": "stdout",
     "output_type": "stream",
     "text": [
      "Collecting flask\n",
      "  Downloading flask-3.1.0-py3-none-any.whl.metadata (2.7 kB)\n",
      "Collecting Werkzeug>=3.1 (from flask)\n",
      "  Downloading werkzeug-3.1.3-py3-none-any.whl.metadata (3.7 kB)\n",
      "Requirement already satisfied: Jinja2>=3.1.2 in c:\\users\\hp\\appdata\\local\\programs\\python\\python312\\lib\\site-packages (from flask) (3.1.4)\n",
      "Collecting itsdangerous>=2.2 (from flask)\n",
      "  Downloading itsdangerous-2.2.0-py3-none-any.whl.metadata (1.9 kB)\n",
      "Collecting click>=8.1.3 (from flask)\n",
      "  Downloading click-8.1.7-py3-none-any.whl.metadata (3.0 kB)\n",
      "Collecting blinker>=1.9 (from flask)\n",
      "  Downloading blinker-1.9.0-py3-none-any.whl.metadata (1.6 kB)\n",
      "Requirement already satisfied: colorama in c:\\users\\hp\\appdata\\local\\programs\\python\\python312\\lib\\site-packages (from click>=8.1.3->flask) (0.4.6)\n",
      "Requirement already satisfied: MarkupSafe>=2.0 in c:\\users\\hp\\appdata\\local\\programs\\python\\python312\\lib\\site-packages (from Jinja2>=3.1.2->flask) (3.0.2)\n",
      "Downloading flask-3.1.0-py3-none-any.whl (102 kB)\n",
      "Downloading blinker-1.9.0-py3-none-any.whl (8.5 kB)\n",
      "Downloading click-8.1.7-py3-none-any.whl (97 kB)\n",
      "Downloading itsdangerous-2.2.0-py3-none-any.whl (16 kB)\n",
      "Downloading werkzeug-3.1.3-py3-none-any.whl (224 kB)\n",
      "Installing collected packages: Werkzeug, itsdangerous, click, blinker, flask\n",
      "Successfully installed Werkzeug-3.1.3 blinker-1.9.0 click-8.1.7 flask-3.1.0 itsdangerous-2.2.0\n",
      "Note: you may need to restart the kernel to use updated packages.\n"
     ]
    },
    {
     "name": "stderr",
     "output_type": "stream",
     "text": [
      "\n",
      "[notice] A new release of pip is available: 24.2 -> 24.3.1\n",
      "[notice] To update, run: python.exe -m pip install --upgrade pip\n"
     ]
    }
   ],
   "source": [
    "pip install flask"
   ]
  },
  {
   "cell_type": "code",
   "execution_count": 63,
   "id": "1f7de873-dc3e-4ae4-8dd5-f305ffe247e8",
   "metadata": {},
   "outputs": [
    {
     "name": "stdout",
     "output_type": "stream",
     "text": [
      " * Serving Flask app '__main__'\n",
      " * Debug mode: on\n"
     ]
    },
    {
     "name": "stderr",
     "output_type": "stream",
     "text": [
      "WARNING: This is a development server. Do not use it in a production deployment. Use a production WSGI server instead.\n",
      " * Running on http://127.0.0.1:5000\n",
      "Press CTRL+C to quit\n",
      " * Restarting with stat\n"
     ]
    },
    {
     "ename": "SystemExit",
     "evalue": "1",
     "output_type": "error",
     "traceback": [
      "An exception has occurred, use %tb to see the full traceback.\n",
      "\u001b[1;31mSystemExit\u001b[0m\u001b[1;31m:\u001b[0m 1\n"
     ]
    },
    {
     "name": "stderr",
     "output_type": "stream",
     "text": [
      "C:\\Users\\hp\\AppData\\Local\\Programs\\Python\\Python312\\Lib\\site-packages\\IPython\\core\\interactiveshell.py:3585: UserWarning: To exit: use 'exit', 'quit', or Ctrl-D.\n",
      "  warn(\"To exit: use 'exit', 'quit', or Ctrl-D.\", stacklevel=1)\n"
     ]
    }
   ],
   "source": [
    "from flask import Flask, request, jsonify\n",
    "\n",
    "app = Flask(__name__)\n",
    "\n",
    "@app.route('/score', methods=['POST'])\n",
    "def score():\n",
    "    data = request.get_json()\n",
    "    family_data = process_data(data)  # Assuming process_data is your data processing function\n",
    "    score = calculate_financial_score(family_data)\n",
    "    insights = generate_insights(score)  # Function to generate insights based on the score\n",
    "    return jsonify({\"score\": score, \"insights\": insights})\n",
    "\n",
    "if __name__ == '__main__':\n",
    "    app.run(debug=True)\n"
   ]
  },
  {
   "cell_type": "code",
   "execution_count": 65,
   "id": "3d5d861b-7bee-44ba-b338-20f5b29f35b3",
   "metadata": {},
   "outputs": [
    {
     "name": "stdout",
     "output_type": "stream",
     "text": [
      "Collecting streamlit\n",
      "  Downloading streamlit-1.40.2-py2.py3-none-any.whl.metadata (8.4 kB)\n",
      "Collecting altair<6,>=4.0 (from streamlit)\n",
      "  Downloading altair-5.5.0-py3-none-any.whl.metadata (11 kB)\n",
      "Requirement already satisfied: blinker<2,>=1.0.0 in c:\\users\\hp\\appdata\\local\\programs\\python\\python312\\lib\\site-packages (from streamlit) (1.9.0)\n",
      "Collecting cachetools<6,>=4.0 (from streamlit)\n",
      "  Downloading cachetools-5.5.0-py3-none-any.whl.metadata (5.3 kB)\n",
      "Requirement already satisfied: click<9,>=7.0 in c:\\users\\hp\\appdata\\local\\programs\\python\\python312\\lib\\site-packages (from streamlit) (8.1.7)\n",
      "Requirement already satisfied: numpy<3,>=1.23 in c:\\users\\hp\\appdata\\local\\programs\\python\\python312\\lib\\site-packages (from streamlit) (2.1.3)\n",
      "Requirement already satisfied: packaging<25,>=20 in c:\\users\\hp\\appdata\\local\\programs\\python\\python312\\lib\\site-packages (from streamlit) (24.2)\n",
      "Requirement already satisfied: pandas<3,>=1.4.0 in c:\\users\\hp\\appdata\\local\\programs\\python\\python312\\lib\\site-packages (from streamlit) (2.2.3)\n",
      "Requirement already satisfied: pillow<12,>=7.1.0 in c:\\users\\hp\\appdata\\local\\programs\\python\\python312\\lib\\site-packages (from streamlit) (11.0.0)\n",
      "Collecting protobuf<6,>=3.20 (from streamlit)\n",
      "  Downloading protobuf-5.28.3-cp310-abi3-win_amd64.whl.metadata (592 bytes)\n",
      "Collecting pyarrow>=7.0 (from streamlit)\n",
      "  Downloading pyarrow-18.1.0-cp312-cp312-win_amd64.whl.metadata (3.4 kB)\n",
      "Requirement already satisfied: requests<3,>=2.27 in c:\\users\\hp\\appdata\\local\\programs\\python\\python312\\lib\\site-packages (from streamlit) (2.32.3)\n",
      "Collecting rich<14,>=10.14.0 (from streamlit)\n",
      "  Downloading rich-13.9.4-py3-none-any.whl.metadata (18 kB)\n",
      "Collecting tenacity<10,>=8.1.0 (from streamlit)\n",
      "  Downloading tenacity-9.0.0-py3-none-any.whl.metadata (1.2 kB)\n",
      "Collecting toml<2,>=0.10.1 (from streamlit)\n",
      "  Downloading toml-0.10.2-py2.py3-none-any.whl.metadata (7.1 kB)\n",
      "Collecting typing-extensions<5,>=4.3.0 (from streamlit)\n",
      "  Downloading typing_extensions-4.12.2-py3-none-any.whl.metadata (3.0 kB)\n",
      "Collecting watchdog<7,>=2.1.5 (from streamlit)\n",
      "  Downloading watchdog-6.0.0-py3-none-win_amd64.whl.metadata (44 kB)\n",
      "Collecting gitpython!=3.1.19,<4,>=3.0.7 (from streamlit)\n",
      "  Downloading GitPython-3.1.43-py3-none-any.whl.metadata (13 kB)\n",
      "Collecting pydeck<1,>=0.8.0b4 (from streamlit)\n",
      "  Downloading pydeck-0.9.1-py2.py3-none-any.whl.metadata (4.1 kB)\n",
      "Requirement already satisfied: tornado<7,>=6.0.3 in c:\\users\\hp\\appdata\\local\\programs\\python\\python312\\lib\\site-packages (from streamlit) (6.4.2)\n",
      "Requirement already satisfied: jinja2 in c:\\users\\hp\\appdata\\local\\programs\\python\\python312\\lib\\site-packages (from altair<6,>=4.0->streamlit) (3.1.4)\n",
      "Requirement already satisfied: jsonschema>=3.0 in c:\\users\\hp\\appdata\\local\\programs\\python\\python312\\lib\\site-packages (from altair<6,>=4.0->streamlit) (4.23.0)\n",
      "Collecting narwhals>=1.14.2 (from altair<6,>=4.0->streamlit)\n",
      "  Downloading narwhals-1.14.2-py3-none-any.whl.metadata (7.5 kB)\n",
      "Requirement already satisfied: colorama in c:\\users\\hp\\appdata\\local\\programs\\python\\python312\\lib\\site-packages (from click<9,>=7.0->streamlit) (0.4.6)\n",
      "Collecting gitdb<5,>=4.0.1 (from gitpython!=3.1.19,<4,>=3.0.7->streamlit)\n",
      "  Downloading gitdb-4.0.11-py3-none-any.whl.metadata (1.2 kB)\n",
      "Requirement already satisfied: python-dateutil>=2.8.2 in c:\\users\\hp\\appdata\\local\\programs\\python\\python312\\lib\\site-packages (from pandas<3,>=1.4.0->streamlit) (2.9.0.post0)\n",
      "Requirement already satisfied: pytz>=2020.1 in c:\\users\\hp\\appdata\\local\\programs\\python\\python312\\lib\\site-packages (from pandas<3,>=1.4.0->streamlit) (2024.2)\n",
      "Requirement already satisfied: tzdata>=2022.7 in c:\\users\\hp\\appdata\\local\\programs\\python\\python312\\lib\\site-packages (from pandas<3,>=1.4.0->streamlit) (2024.2)\n",
      "Requirement already satisfied: charset-normalizer<4,>=2 in c:\\users\\hp\\appdata\\local\\programs\\python\\python312\\lib\\site-packages (from requests<3,>=2.27->streamlit) (3.4.0)\n",
      "Requirement already satisfied: idna<4,>=2.5 in c:\\users\\hp\\appdata\\local\\programs\\python\\python312\\lib\\site-packages (from requests<3,>=2.27->streamlit) (3.10)\n",
      "Requirement already satisfied: urllib3<3,>=1.21.1 in c:\\users\\hp\\appdata\\local\\programs\\python\\python312\\lib\\site-packages (from requests<3,>=2.27->streamlit) (2.2.3)\n",
      "Requirement already satisfied: certifi>=2017.4.17 in c:\\users\\hp\\appdata\\local\\programs\\python\\python312\\lib\\site-packages (from requests<3,>=2.27->streamlit) (2024.8.30)\n",
      "Collecting markdown-it-py>=2.2.0 (from rich<14,>=10.14.0->streamlit)\n",
      "  Downloading markdown_it_py-3.0.0-py3-none-any.whl.metadata (6.9 kB)\n",
      "Requirement already satisfied: pygments<3.0.0,>=2.13.0 in c:\\users\\hp\\appdata\\local\\programs\\python\\python312\\lib\\site-packages (from rich<14,>=10.14.0->streamlit) (2.18.0)\n",
      "Collecting smmap<6,>=3.0.1 (from gitdb<5,>=4.0.1->gitpython!=3.1.19,<4,>=3.0.7->streamlit)\n",
      "  Downloading smmap-5.0.1-py3-none-any.whl.metadata (4.3 kB)\n",
      "Requirement already satisfied: MarkupSafe>=2.0 in c:\\users\\hp\\appdata\\local\\programs\\python\\python312\\lib\\site-packages (from jinja2->altair<6,>=4.0->streamlit) (3.0.2)\n",
      "Requirement already satisfied: attrs>=22.2.0 in c:\\users\\hp\\appdata\\local\\programs\\python\\python312\\lib\\site-packages (from jsonschema>=3.0->altair<6,>=4.0->streamlit) (24.2.0)\n",
      "Requirement already satisfied: jsonschema-specifications>=2023.03.6 in c:\\users\\hp\\appdata\\local\\programs\\python\\python312\\lib\\site-packages (from jsonschema>=3.0->altair<6,>=4.0->streamlit) (2024.10.1)\n",
      "Requirement already satisfied: referencing>=0.28.4 in c:\\users\\hp\\appdata\\local\\programs\\python\\python312\\lib\\site-packages (from jsonschema>=3.0->altair<6,>=4.0->streamlit) (0.35.1)\n",
      "Requirement already satisfied: rpds-py>=0.7.1 in c:\\users\\hp\\appdata\\local\\programs\\python\\python312\\lib\\site-packages (from jsonschema>=3.0->altair<6,>=4.0->streamlit) (0.21.0)\n",
      "Collecting mdurl~=0.1 (from markdown-it-py>=2.2.0->rich<14,>=10.14.0->streamlit)\n",
      "  Downloading mdurl-0.1.2-py3-none-any.whl.metadata (1.6 kB)\n",
      "Requirement already satisfied: six>=1.5 in c:\\users\\hp\\appdata\\local\\programs\\python\\python312\\lib\\site-packages (from python-dateutil>=2.8.2->pandas<3,>=1.4.0->streamlit) (1.16.0)\n",
      "Downloading streamlit-1.40.2-py2.py3-none-any.whl (8.6 MB)\n",
      "   ---------------------------------------- 0.0/8.6 MB ? eta -:--:--\n",
      "   -------- ------------------------------- 1.8/8.6 MB 9.1 MB/s eta 0:00:01\n",
      "   ------------------ --------------------- 3.9/8.6 MB 9.4 MB/s eta 0:00:01\n",
      "   --------------------------- ------------ 6.0/8.6 MB 10.0 MB/s eta 0:00:01\n",
      "   ------------------------------- -------- 6.8/8.6 MB 8.9 MB/s eta 0:00:01\n",
      "   --------------------------------- ------ 7.3/8.6 MB 7.3 MB/s eta 0:00:01\n",
      "   ------------------------------------ --- 7.9/8.6 MB 6.5 MB/s eta 0:00:01\n",
      "   -------------------------------------- - 8.4/8.6 MB 5.9 MB/s eta 0:00:01\n",
      "   ---------------------------------------- 8.6/8.6 MB 5.4 MB/s eta 0:00:00\n",
      "Downloading altair-5.5.0-py3-none-any.whl (731 kB)\n",
      "   ---------------------------------------- 0.0/731.2 kB ? eta -:--:--\n",
      "   ---------------------------- ----------- 524.3/731.2 kB 2.8 MB/s eta 0:00:01\n",
      "   ---------------------------------------- 731.2/731.2 kB 3.0 MB/s eta 0:00:00\n",
      "Downloading cachetools-5.5.0-py3-none-any.whl (9.5 kB)\n",
      "Downloading GitPython-3.1.43-py3-none-any.whl (207 kB)\n",
      "Downloading protobuf-5.28.3-cp310-abi3-win_amd64.whl (431 kB)\n",
      "Downloading pyarrow-18.1.0-cp312-cp312-win_amd64.whl (25.1 MB)\n",
      "   ---------------------------------------- 0.0/25.1 MB ? eta -:--:--\n",
      "   - -------------------------------------- 0.8/25.1 MB 4.2 MB/s eta 0:00:06\n",
      "   -- ------------------------------------- 1.8/25.1 MB 4.6 MB/s eta 0:00:06\n",
      "   ---- ----------------------------------- 2.6/25.1 MB 4.2 MB/s eta 0:00:06\n",
      "   ----- ---------------------------------- 3.4/25.1 MB 4.1 MB/s eta 0:00:06\n",
      "   ------ --------------------------------- 4.2/25.1 MB 4.0 MB/s eta 0:00:06\n",
      "   ------- -------------------------------- 5.0/25.1 MB 4.0 MB/s eta 0:00:06\n",
      "   --------- ------------------------------ 5.8/25.1 MB 3.9 MB/s eta 0:00:05\n",
      "   ---------- ----------------------------- 6.3/25.1 MB 3.8 MB/s eta 0:00:05\n",
      "   ----------- ---------------------------- 7.3/25.1 MB 3.8 MB/s eta 0:00:05\n",
      "   ------------- -------------------------- 8.4/25.1 MB 3.9 MB/s eta 0:00:05\n",
      "   --------------- ------------------------ 9.4/25.1 MB 4.0 MB/s eta 0:00:04\n",
      "   ---------------- ----------------------- 10.5/25.1 MB 4.1 MB/s eta 0:00:04\n",
      "   ------------------ --------------------- 11.5/25.1 MB 4.2 MB/s eta 0:00:04\n",
      "   -------------------- ------------------- 12.8/25.1 MB 4.3 MB/s eta 0:00:03\n",
      "   --------------------- ------------------ 13.6/25.1 MB 4.3 MB/s eta 0:00:03\n",
      "   ----------------------- ---------------- 14.7/25.1 MB 4.3 MB/s eta 0:00:03\n",
      "   ------------------------- -------------- 15.7/25.1 MB 4.3 MB/s eta 0:00:03\n",
      "   -------------------------- ------------- 16.8/25.1 MB 4.4 MB/s eta 0:00:02\n",
      "   ---------------------------- ----------- 18.1/25.1 MB 4.5 MB/s eta 0:00:02\n",
      "   ------------------------------ --------- 19.1/25.1 MB 4.5 MB/s eta 0:00:02\n",
      "   -------------------------------- ------- 20.4/25.1 MB 4.6 MB/s eta 0:00:02\n",
      "   ---------------------------------- ----- 21.8/25.1 MB 4.6 MB/s eta 0:00:01\n",
      "   ------------------------------------- -- 23.6/25.1 MB 4.6 MB/s eta 0:00:01\n",
      "   ---------------------------------------  24.9/25.1 MB 4.7 MB/s eta 0:00:01\n",
      "   ---------------------------------------  24.9/25.1 MB 4.7 MB/s eta 0:00:01\n",
      "   ---------------------------------------  24.9/25.1 MB 4.7 MB/s eta 0:00:01\n",
      "   ---------------------------------------- 25.1/25.1 MB 4.3 MB/s eta 0:00:00\n",
      "Downloading pydeck-0.9.1-py2.py3-none-any.whl (6.9 MB)\n",
      "   ---------------------------------------- 0.0/6.9 MB ? eta -:--:--\n",
      "   ------- -------------------------------- 1.3/6.9 MB 6.1 MB/s eta 0:00:01\n",
      "   ------------------ --------------------- 3.1/6.9 MB 6.8 MB/s eta 0:00:01\n",
      "   --------------------------- ------------ 4.7/6.9 MB 6.8 MB/s eta 0:00:01\n",
      "   ---------------------------------- ----- 6.0/6.9 MB 6.6 MB/s eta 0:00:01\n",
      "   ---------------------------------------  6.8/6.9 MB 6.6 MB/s eta 0:00:01\n",
      "   ---------------------------------------- 6.9/6.9 MB 5.8 MB/s eta 0:00:00\n",
      "Downloading rich-13.9.4-py3-none-any.whl (242 kB)\n",
      "Downloading tenacity-9.0.0-py3-none-any.whl (28 kB)\n",
      "Downloading toml-0.10.2-py2.py3-none-any.whl (16 kB)\n",
      "Downloading typing_extensions-4.12.2-py3-none-any.whl (37 kB)\n",
      "Downloading watchdog-6.0.0-py3-none-win_amd64.whl (79 kB)\n",
      "Downloading gitdb-4.0.11-py3-none-any.whl (62 kB)\n",
      "Downloading markdown_it_py-3.0.0-py3-none-any.whl (87 kB)\n",
      "Downloading narwhals-1.14.2-py3-none-any.whl (225 kB)\n",
      "Downloading mdurl-0.1.2-py3-none-any.whl (10.0 kB)\n",
      "Downloading smmap-5.0.1-py3-none-any.whl (24 kB)\n",
      "Installing collected packages: watchdog, typing-extensions, toml, tenacity, smmap, pyarrow, protobuf, narwhals, mdurl, cachetools, pydeck, markdown-it-py, gitdb, rich, gitpython, altair, streamlit\n",
      "Successfully installed altair-5.5.0 cachetools-5.5.0 gitdb-4.0.11 gitpython-3.1.43 markdown-it-py-3.0.0 mdurl-0.1.2 narwhals-1.14.2 protobuf-5.28.3 pyarrow-18.1.0 pydeck-0.9.1 rich-13.9.4 smmap-5.0.1 streamlit-1.40.2 tenacity-9.0.0 toml-0.10.2 typing-extensions-4.12.2 watchdog-6.0.0\n",
      "Note: you may need to restart the kernel to use updated packages.\n"
     ]
    },
    {
     "name": "stderr",
     "output_type": "stream",
     "text": [
      "\n",
      "[notice] A new release of pip is available: 24.2 -> 24.3.1\n",
      "[notice] To update, run: python.exe -m pip install --upgrade pip\n"
     ]
    }
   ],
   "source": [
    "pip install streamlit"
   ]
  },
  {
   "cell_type": "code",
   "execution_count": 69,
   "id": "3bc4875b-065f-4628-8e63-b9a5b18975e4",
   "metadata": {},
   "outputs": [
    {
     "name": "stderr",
     "output_type": "stream",
     "text": [
      "2024-11-26 13:00:14.089 Thread 'MainThread': missing ScriptRunContext! This warning can be ignored when running in bare mode.\n",
      "2024-11-26 13:00:14.092 Thread 'MainThread': missing ScriptRunContext! This warning can be ignored when running in bare mode.\n",
      "2024-11-26 13:00:14.094 Thread 'MainThread': missing ScriptRunContext! This warning can be ignored when running in bare mode.\n",
      "2024-11-26 13:00:14.096 Thread 'MainThread': missing ScriptRunContext! This warning can be ignored when running in bare mode.\n",
      "2024-11-26 13:00:14.098 Thread 'MainThread': missing ScriptRunContext! This warning can be ignored when running in bare mode.\n",
      "2024-11-26 13:00:14.100 Thread 'MainThread': missing ScriptRunContext! This warning can be ignored when running in bare mode.\n",
      "2024-11-26 13:00:14.101 Thread 'MainThread': missing ScriptRunContext! This warning can be ignored when running in bare mode.\n",
      "2024-11-26 13:00:14.103 Thread 'MainThread': missing ScriptRunContext! This warning can be ignored when running in bare mode.\n",
      "2024-11-26 13:00:14.105 Thread 'MainThread': missing ScriptRunContext! This warning can be ignored when running in bare mode.\n",
      "2024-11-26 13:00:14.107 Thread 'MainThread': missing ScriptRunContext! This warning can be ignored when running in bare mode.\n"
     ]
    }
   ],
   "source": [
    "import streamlit as st\n",
    "\n",
    "# Define financial score\n",
    "score = 68  # Example score (you can replace this with your actual calculation)\n",
    "\n",
    "# Define insights based on the score\n",
    "insights = \"This financial score indicates a strong financial position with manageable debt and good cash flow.\"  # Example insights\n",
    "\n",
    "# Set title of the dashboard\n",
    "st.title(\"Financial Insights Dashboard\")\n",
    "\n",
    "# Display score and insights\n",
    "st.write(f\"Financial Score: {score}\")\n",
    "st.write(f\"Insights: {insights}\")"
   ]
  },
  {
   "cell_type": "code",
   "execution_count": null,
   "id": "8e634c51-2fc6-41a8-a21b-5031190a04ad",
   "metadata": {},
   "outputs": [],
   "source": []
  }
 ],
 "metadata": {
  "kernelspec": {
   "display_name": "Python 3 (ipykernel)",
   "language": "python",
   "name": "python3"
  },
  "language_info": {
   "codemirror_mode": {
    "name": "ipython",
    "version": 3
   },
   "file_extension": ".py",
   "mimetype": "text/x-python",
   "name": "python",
   "nbconvert_exporter": "python",
   "pygments_lexer": "ipython3",
   "version": "3.12.5"
  }
 },
 "nbformat": 4,
 "nbformat_minor": 5
}
